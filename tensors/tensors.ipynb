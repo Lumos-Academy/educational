{
 "cells": [
  {
   "cell_type": "markdown",
   "metadata": {},
   "source": [
    "# Tensors: The Building Blocks of Modern Machine Learning"
   ]
  },
  {
   "cell_type": "markdown",
   "metadata": {},
   "source": [
    "Tensors are fundamental mathematical objects used in various fields, including physics, engineering, and machine learning. In simple terms, a tensor is a generalization of vectors and matrices to potentially higher dimensions. They're especially important in deep learning, where they represent the core data structure for neural networks."
   ]
  },
  {
   "cell_type": "markdown",
   "metadata": {},
   "source": [
    "Let's break down the concept of tensors by dimension:"
   ]
  },
  {
   "cell_type": "markdown",
   "metadata": {},
   "source": [
    "1. Scalar (0-D Tensor):\n",
    "A scalar is a single number. In tensor terms, it's a 0-dimensional tensor."
   ]
  },
  {
   "cell_type": "code",
   "execution_count": 4,
   "metadata": {},
   "outputs": [
    {
     "name": "stdout",
     "output_type": "stream",
     "text": [
      "5\n",
      "Shape: ()\n"
     ]
    }
   ],
   "source": [
    "# Scalar (0-D Tensor)\n",
    "import numpy as np\n",
    "\n",
    "scalar = np.array(5)\n",
    "print(scalar)\n",
    "print(\"Shape:\", scalar.shape)"
   ]
  },
  {
   "cell_type": "markdown",
   "metadata": {},
   "source": [
    "2. Vector (1-D Tensor):\n",
    "A vector is a 1-dimensional array of numbers."
   ]
  },
  {
   "cell_type": "code",
   "execution_count": 5,
   "metadata": {},
   "outputs": [
    {
     "name": "stdout",
     "output_type": "stream",
     "text": [
      "[1 2 3 4 5]\n",
      "Shape: (5,)\n"
     ]
    }
   ],
   "source": [
    "# Vector (1-D Tensor)\n",
    "vector = np.array([1, 2, 3, 4, 5])\n",
    "print(vector)\n",
    "print(\"Shape:\", vector.shape)"
   ]
  },
  {
   "cell_type": "markdown",
   "metadata": {},
   "source": [
    "3. Matrix (2-D Tensor):\n",
    "A matrix is a 2-dimensional array of numbers."
   ]
  },
  {
   "cell_type": "code",
   "execution_count": 6,
   "metadata": {},
   "outputs": [
    {
     "name": "stdout",
     "output_type": "stream",
     "text": [
      "[[1 2 3]\n",
      " [4 5 6]\n",
      " [7 8 9]]\n",
      "Shape: (3, 3)\n"
     ]
    }
   ],
   "source": [
    "# Matrix (2-D Tensor)\n",
    "matrix = np.array([[1, 2, 3],\n",
    "                   [4, 5, 6],\n",
    "                   [7, 8, 9]])\n",
    "print(matrix)\n",
    "print(\"Shape:\", matrix.shape)"
   ]
  },
  {
   "cell_type": "markdown",
   "metadata": {},
   "source": [
    "4. Higher-Dimensional Tensors:\n",
    "Tensors can have more than two dimensions. For example, a 3-D tensor could represent a cube of numbers."
   ]
  },
  {
   "cell_type": "code",
   "execution_count": 7,
   "metadata": {},
   "outputs": [
    {
     "name": "stdout",
     "output_type": "stream",
     "text": [
      "[[[ 1  2]\n",
      "  [ 3  4]]\n",
      "\n",
      " [[ 5  6]\n",
      "  [ 7  8]]\n",
      "\n",
      " [[ 9 10]\n",
      "  [11 12]]]\n",
      "Shape: (3, 2, 2)\n"
     ]
    }
   ],
   "source": [
    "# 3-D Tensor\n",
    "tensor_3d = np.array([[[1, 2], [3, 4]],\n",
    "                      [[5, 6], [7, 8]],\n",
    "                      [[9, 10], [11, 12]]])\n",
    "print(tensor_3d)\n",
    "print(\"Shape:\", tensor_3d.shape)"
   ]
  },
  {
   "cell_type": "markdown",
   "metadata": {},
   "source": [
    "## Tensors in Machine Learning:\n",
    "In machine learning, tensors are used to represent various types of data:\n",
    "\n",
    "- Input data (e.g., images, text)\n",
    "- Model parameters (weights and biases)\n",
    "- Intermediate representations in neural networks\n",
    "\n",
    "Let's create a simple example using PyTorch to demonstrate how tensors are used in a basic neural network:"
   ]
  },
  {
   "cell_type": "code",
   "execution_count": null,
   "metadata": {},
   "outputs": [],
   "source": [
    "import torch\n",
    "import torch.nn as nn\n",
    "\n",
    "# Create a random input tensor (batch_size, input_features)\n",
    "input_tensor = torch.randn(32, 10)\n",
    "\n",
    "# Define a simple neural network\n",
    "class SimpleNN(nn.Module):\n",
    "    def __init__(self):\n",
    "        super(SimpleNN, self).__init__()\n",
    "        self.fc1 = nn.Linear(10, 5)\n",
    "        self.fc2 = nn.Linear(5, 1)\n",
    "\n",
    "    def forward(self, x):\n",
    "        x = torch.relu(self.fc1(x))\n",
    "        x = self.fc2(x)\n",
    "        return x\n",
    "\n",
    "# Create an instance of the model\n",
    "model = SimpleNN()\n",
    "\n",
    "# Pass the input tensor through the model\n",
    "output = model(input_tensor)\n",
    "\n",
    "print(\"Input shape:\", input_tensor.shape)\n",
    "print(\"Output shape:\", output.shape)"
   ]
  },
  {
   "cell_type": "markdown",
   "metadata": {},
   "source": [
    "In this example, we create a random input tensor with 32 samples and 10 features each. We then define a simple neural network with two linear layers and pass the input through it. The shapes of the tensors change as they flow through the network.\n",
    "\n",
    "Understanding tensor operations is crucial for working with neural networks and other machine learning models. \n",
    "\n",
    "Common operations include:\n",
    "\n",
    "- Reshaping\n",
    "- Element-wise operations\n",
    "- Matrix multiplication\n",
    "- Reduction operations (sum, mean, etc.)\n",
    "\n",
    "Here's a quick example of some tensor operations:"
   ]
  },
  {
   "cell_type": "code",
   "execution_count": null,
   "metadata": {},
   "outputs": [],
   "source": [
    "import torch\n",
    "\n",
    "# Create a tensor\n",
    "a = torch.tensor([[1, 2], [3, 4]])\n",
    "\n",
    "# Reshaping\n",
    "b = a.reshape(4)\n",
    "print(\"Reshaped:\", b)\n",
    "\n",
    "# Element-wise operation\n",
    "c = a * 2\n",
    "print(\"Element-wise multiplication:\", c)\n",
    "\n",
    "# Matrix multiplication\n",
    "d = torch.matmul(a, a)\n",
    "print(\"Matrix multiplication:\", d)\n",
    "\n",
    "# Reduction\n",
    "e = torch.sum(a)\n",
    "print(\"Sum of all elements:\", e)"
   ]
  },
  {
   "cell_type": "markdown",
   "metadata": {},
   "source": [
    "## Tensors with Gradient Information\n",
    "In addition to storing data, tensors in deep learning frameworks like PyTorch can also track gradient information. This capability is crucial for implementing backpropagation, the algorithm used to train neural networks.\n",
    "\n",
    "When a tensor is created with requires_grad=True, it tells the framework to track operations performed on this tensor and compute gradients with respect to it. This is particularly useful for model parameters (weights and biases) and input tensors that require gradient computation.\n",
    "\n",
    "Let's demonstrate this with a PyTorch example:"
   ]
  },
  {
   "cell_type": "code",
   "execution_count": null,
   "metadata": {},
   "outputs": [],
   "source": [
    "import torch\n",
    "\n",
    "# Create a tensor with gradient tracking\n",
    "x = torch.tensor([[1., 2.], [3., 4.]], requires_grad=True)\n",
    "print(\"x:\", x)\n",
    "print(\"x.requires_grad:\", x.requires_grad)\n",
    "\n",
    "# Perform some operations\n",
    "y = x.pow(2).sum()\n",
    "print(\"y:\", y)\n",
    "\n",
    "# Compute gradients\n",
    "y.backward()\n",
    "\n",
    "# Access the gradients\n",
    "print(\"x.grad:\", x.grad)"
   ]
  },
  {
   "cell_type": "markdown",
   "metadata": {},
   "source": [
    "In this example:\n",
    "\n",
    "1. We create a tensor `x` with `requires_grad=True`.\n",
    "2. We perform operations on `x` to create `y`.\n",
    "3. We call `y.backward()` to compute gradients.\n",
    "4. The gradients are stored in `x.grad`.\n",
    "\n",
    "The `x.grad` tensor will contain the partial derivatives of `y` with respect to each element in `x`. This is the essence of automatic differentiation, which is key to training neural networks.\n",
    "\n",
    "Let's expand on this with a more practical example involving a simple neural network:"
   ]
  },
  {
   "cell_type": "code",
   "execution_count": null,
   "metadata": {},
   "outputs": [],
   "source": [
    "import torch\n",
    "import torch.nn as nn\n",
    "\n",
    "# Create a simple dataset\n",
    "X = torch.tensor([[1.0, 2.0], [3.0, 4.0], [5.0, 6.0]], requires_grad=True)\n",
    "y = torch.tensor([[3.0], [7.0], [11.0]])\n",
    "\n",
    "# Define a simple neural network\n",
    "class SimpleNN(nn.Module):\n",
    "    def __init__(self):\n",
    "        super(SimpleNN, self).__init__()\n",
    "        self.linear = nn.Linear(2, 1)\n",
    "    \n",
    "    def forward(self, x):\n",
    "        return self.linear(x)\n",
    "\n",
    "# Create model, loss function, and optimizer\n",
    "model = SimpleNN()\n",
    "criterion = nn.MSELoss()\n",
    "optimizer = torch.optim.SGD(model.parameters(), lr=0.01)\n",
    "\n",
    "# Training loop\n",
    "for epoch in range(100):\n",
    "    # Forward pass\n",
    "    y_pred = model(X)\n",
    "    loss = criterion(y_pred, y)\n",
    "    \n",
    "    # Backward pass and optimization\n",
    "    optimizer.zero_grad()\n",
    "    loss.backward()\n",
    "    optimizer.step()\n",
    "    \n",
    "    if (epoch + 1) % 10 == 0:\n",
    "        print(f'Epoch [{epoch+1}/100], Loss: {loss.item():.4f}')\n",
    "\n",
    "# Print model parameters and their gradients\n",
    "for name, param in model.named_parameters():\n",
    "    print(f\"{name}:\")\n",
    "    print(\"  Parameter:\", param.data)\n",
    "    print(\"  Gradient:\", param.grad)\n",
    "\n",
    "# Make a prediction with gradient tracking\n",
    "X_test = torch.tensor([[2.0, 3.0]], requires_grad=True)\n",
    "y_pred = model(X_test)\n",
    "y_pred.backward()\n",
    "\n",
    "print(\"\\nGradient of input:\")\n",
    "print(X_test.grad)"
   ]
  },
  {
   "cell_type": "markdown",
   "metadata": {},
   "source": [
    "This example demonstrates several important concepts:\n",
    "\n",
    "1. We create an input tensor X with requires_grad=True to track gradients through the entire computation graph.\n",
    "2. The model parameters (weights and biases of the linear layer) automatically have requires_grad=True.\n",
    "3. During training, we compute the loss and call loss.backward() to compute gradients for all tensors in the computation graph that require gradients.\n",
    "4. The optimizer uses these gradients to update the model parameters.\n",
    "5. After training, we can inspect the gradients of the model parameters.\n",
    "6. We can also compute gradients with respect to input tensors, as shown with X_test."
   ]
  },
  {
   "cell_type": "markdown",
   "metadata": {},
   "source": [
    "Understanding how tensors track gradient information is crucial for:\n",
    "\n",
    "- Implementing custom neural network layers\n",
    "- Debugging backpropagation issues\n",
    "- Implementing advanced optimization techniques\n",
    "- Analyzing model sensitivity to inputs"
   ]
  },
  {
   "cell_type": "markdown",
   "metadata": {},
   "source": [
    "This gradient-tracking capability of tensors, combined with automatic differentiation, is what makes modern deep learning frameworks so powerful and easy to use.\n",
    "\n",
    "In conclusion, tensors are versatile mathematical objects that form the foundation of modern machine learning. They can represent data of various dimensions, from scalars to complex multi-dimensional arrays. In deep learning frameworks, tensors not only store data but also track gradient information, enabling efficient training of neural networks through backpropagation. Understanding tensors and their operations is essential for anyone working in the field of machine learning and artificial intelligence."
   ]
  },
  {
   "cell_type": "markdown",
   "metadata": {},
   "source": []
  }
 ],
 "metadata": {
  "kernelspec": {
   "display_name": "Python 3",
   "language": "python",
   "name": "python3"
  },
  "language_info": {
   "codemirror_mode": {
    "name": "ipython",
    "version": 3
   },
   "file_extension": ".py",
   "mimetype": "text/x-python",
   "name": "python",
   "nbconvert_exporter": "python",
   "pygments_lexer": "ipython3",
   "version": "3.10.6"
  }
 },
 "nbformat": 4,
 "nbformat_minor": 2
}
